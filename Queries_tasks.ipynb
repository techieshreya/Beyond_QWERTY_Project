{
  "nbformat": 4,
  "nbformat_minor": 0,
  "metadata": {
    "colab": {
      "provenance": []
    },
    "kernelspec": {
      "name": "python3",
      "display_name": "Python 3"
    },
    "language_info": {
      "name": "python"
    }
  },
  "cells": [
    {
      "cell_type": "code",
      "execution_count": null,
      "metadata": {
        "id": "cBwqVbXMLvex"
      },
      "outputs": [],
      "source": [
        "num = int(input(\"Enter a number: \"))\n",
        "if num % 2 == 0:\n",
        "    print(\"Even\")\n",
        "else:\n",
        "    print(\"Odd\")"
      ]
    },
    {
      "cell_type": "code",
      "source": [
        "def reverse_string(s):\n",
        "    l = 0\n",
        "    r = len(s) - 1\n",
        "    while l<r:\n",
        "      s[l],s[r] = s[r],s[l]\n",
        "      l +=1\n",
        "      r-=1\n",
        "    return s\n",
        "\n",
        "\n",
        "s = [i for i in input().split()]\n",
        "print(reverse_string(s))\n"
      ],
      "metadata": {
        "colab": {
          "base_uri": "https://localhost:8080/"
        },
        "id": "ATK7SBrbMDF7",
        "outputId": "f403da45-a367-45df-8aec-964dafb4e992"
      },
      "execution_count": null,
      "outputs": [
        {
          "output_type": "stream",
          "name": "stdout",
          "text": [
            "1 2 3 4 5\n",
            "['5', '4', '3', '2', '1']\n"
          ]
        }
      ]
    },
    {
      "cell_type": "code",
      "source": [
        "def factorial(n):\n",
        "    if n == 0:\n",
        "        return 1\n",
        "    else:\n",
        "        return n * factorial(n - 1)\n",
        "n = int(input())\n",
        "print(factorial(n))"
      ],
      "metadata": {
        "colab": {
          "base_uri": "https://localhost:8080/"
        },
        "id": "9HcY5ykMMDHb",
        "outputId": "87af255a-0d82-4ab8-89a7-1d15fcf81417"
      },
      "execution_count": null,
      "outputs": [
        {
          "output_type": "stream",
          "name": "stdout",
          "text": [
            "4\n",
            "24\n"
          ]
        }
      ]
    },
    {
      "cell_type": "code",
      "source": [
        "a = [-3,-1,0,1,4,7]\n",
        "def Binary_search(arr,target):\n",
        "  N = len(arr)\n",
        "  L = 0\n",
        "  R = N-1\n",
        "\n",
        "  while L <= R:\n",
        "    M =(L + R)//2\n",
        "    if arr[M] == target:\n",
        "      return True\n",
        "    elif target < arr[M] :\n",
        "      R = M-1\n",
        "    else:\n",
        "      L = M+1\n",
        "\n",
        "  return False\n",
        "\n",
        "print(Binary_search(a,-2))"
      ],
      "metadata": {
        "colab": {
          "base_uri": "https://localhost:8080/"
        },
        "id": "CIvXCXc0MDIu",
        "outputId": "c4aff96a-0cd9-4c17-bf0f-7050cdcf9965"
      },
      "execution_count": null,
      "outputs": [
        {
          "output_type": "stream",
          "name": "stdout",
          "text": [
            "False\n"
          ]
        }
      ]
    },
    {
      "cell_type": "code",
      "source": [
        "\n",
        "#Linked List\n",
        "class SinglyNode:\n",
        "  def __init__(self,value,next =None):\n",
        "    self.val = value\n",
        "    self.next = next\n",
        "  def __str__(self):\n",
        "    return str(self.val)\n",
        "Head = SinglyNode(1)\n",
        "A = SinglyNode(3)\n",
        "B = SinglyNode(7)\n",
        "C = SinglyNode(8)\n",
        "\n",
        "Head.next = A\n",
        "A.next = B\n",
        "B.next = C"
      ],
      "metadata": {
        "id": "aOI7lctZMDJ7"
      },
      "execution_count": null,
      "outputs": []
    },
    {
      "cell_type": "code",
      "source": [
        "curr = Head\n",
        "while curr:\n",
        "  print(curr.val)\n",
        "  curr =  curr.next"
      ],
      "metadata": {
        "colab": {
          "base_uri": "https://localhost:8080/"
        },
        "id": "paWHKPjMMDLN",
        "outputId": "31ee3900-82a1-47b6-af68-bc080cbd6c41"
      },
      "execution_count": null,
      "outputs": [
        {
          "output_type": "stream",
          "name": "stdout",
          "text": [
            "1\n",
            "3\n",
            "7\n",
            "8\n"
          ]
        }
      ]
    },
    {
      "cell_type": "code",
      "source": [
        "# Build Min Heap (Heapify)\n",
        "\n",
        "\n",
        "\n",
        "A =[-4 , 3,  1 , 0 , 2 , 5 , 10, 8 ,12, 9]\n",
        "\n",
        "import heapq\n",
        "heapq.heapify(A)\n",
        "\n",
        "print(A)"
      ],
      "metadata": {
        "colab": {
          "base_uri": "https://localhost:8080/"
        },
        "id": "SF2fzo4XMDMY",
        "outputId": "b6f37e92-0d79-484c-92e1-25734a54e3a1"
      },
      "execution_count": null,
      "outputs": [
        {
          "output_type": "stream",
          "name": "stdout",
          "text": [
            "[-4, 0, 1, 3, 2, 5, 10, 8, 12, 9]\n"
          ]
        }
      ]
    },
    {
      "cell_type": "code",
      "source": [
        "heapq.heappush(A,4)\n",
        "print(A)"
      ],
      "metadata": {
        "colab": {
          "base_uri": "https://localhost:8080/"
        },
        "id": "yzfKhHl7MDOM",
        "outputId": "58b32599-d1ce-4dab-cf8c-0cbe60f359a2"
      },
      "execution_count": null,
      "outputs": [
        {
          "output_type": "stream",
          "name": "stdout",
          "text": [
            "[-4, 0, 1, 3, 2, 5, 10, 8, 12, 9, 4]\n"
          ]
        }
      ]
    },
    {
      "cell_type": "code",
      "source": [
        "#Max heap\n",
        "B  = [-4 , 3,  1 , 0 , 2 , 5 , 10, 8 ,12, 9]\n",
        "for i in range(len(B)):\n",
        "  B[i] = -B[i]\n",
        "heapq.heapify(B)\n",
        "print(B)"
      ],
      "metadata": {
        "colab": {
          "base_uri": "https://localhost:8080/"
        },
        "id": "UFmkhs0BMDPe",
        "outputId": "de7adad0-40c0-4755-eebd-f0be6672150e"
      },
      "execution_count": null,
      "outputs": [
        {
          "output_type": "stream",
          "name": "stdout",
          "text": [
            "[-12, -9, -10, -8, -2, -5, -1, -3, 0, 4]\n"
          ]
        }
      ]
    },
    {
      "cell_type": "code",
      "source": [
        "max = - heapq.heappop(B)\n",
        "print(max)"
      ],
      "metadata": {
        "colab": {
          "base_uri": "https://localhost:8080/"
        },
        "id": "SNM6T9hgMDQn",
        "outputId": "043cbd44-b8a7-49d2-f23e-99c92a6a00f5"
      },
      "execution_count": null,
      "outputs": [
        {
          "output_type": "stream",
          "name": "stdout",
          "text": [
            "12\n"
          ]
        }
      ]
    },
    {
      "cell_type": "code",
      "source": [
        "heapq.heappush(B,-7)\n",
        "print(B)"
      ],
      "metadata": {
        "colab": {
          "base_uri": "https://localhost:8080/"
        },
        "id": "-DVfqe0jMDR0",
        "outputId": "f65a5fe7-c15d-4cff-9037-4ca43e49eab7"
      },
      "execution_count": null,
      "outputs": [
        {
          "output_type": "stream",
          "name": "stdout",
          "text": [
            "[-10, -9, -5, -8, -7, 4, -1, -3, 0, -2, -7]\n"
          ]
        }
      ]
    },
    {
      "cell_type": "code",
      "source": [
        "#stack\n",
        "s = []\n",
        "s.append(1)\n",
        "s.append(2)\n",
        "s.append(3)\n",
        "print(s)"
      ],
      "metadata": {
        "colab": {
          "base_uri": "https://localhost:8080/"
        },
        "id": "2yMJMLn7MDTL",
        "outputId": "57c39a25-c014-4855-c58c-1b1cc50ec456"
      },
      "execution_count": null,
      "outputs": [
        {
          "output_type": "stream",
          "name": "stdout",
          "text": [
            "[1, 2, 3]\n"
          ]
        }
      ]
    },
    {
      "cell_type": "code",
      "source": [
        "x = s.pop()\n",
        "print(x)\n",
        "print(s)"
      ],
      "metadata": {
        "colab": {
          "base_uri": "https://localhost:8080/"
        },
        "id": "3bBZv8b_MDUo",
        "outputId": "33145edf-bac0-4861-d199-250ec2018b15"
      },
      "execution_count": null,
      "outputs": [
        {
          "output_type": "stream",
          "name": "stdout",
          "text": [
            "3\n",
            "[1, 2]\n"
          ]
        }
      ]
    },
    {
      "cell_type": "code",
      "source": [
        "if s:\n",
        "  print(\"stack is not empty\")\n",
        "else:\n",
        "  print(\"stack is empty\")"
      ],
      "metadata": {
        "colab": {
          "base_uri": "https://localhost:8080/"
        },
        "id": "EySK0ZUaMDVy",
        "outputId": "c446fe47-0b61-488c-ce09-eb94e00b43fa"
      },
      "execution_count": null,
      "outputs": [
        {
          "output_type": "stream",
          "name": "stdout",
          "text": [
            "stack is not empty\n"
          ]
        }
      ]
    },
    {
      "cell_type": "code",
      "source": [
        "# Queue\n",
        "from collections import deque\n",
        "q = deque()\n",
        "print(q)\n"
      ],
      "metadata": {
        "colab": {
          "base_uri": "https://localhost:8080/"
        },
        "id": "p0SC0EhJMDXC",
        "outputId": "0b39caf5-5c40-45af-f28f-5934879ccd01"
      },
      "execution_count": null,
      "outputs": [
        {
          "output_type": "stream",
          "name": "stdout",
          "text": [
            "deque([])\n"
          ]
        }
      ]
    },
    {
      "cell_type": "code",
      "source": [
        "q.append(1)\n",
        "q.append(2)\n",
        "q.append(3)\n",
        "print(q)"
      ],
      "metadata": {
        "colab": {
          "base_uri": "https://localhost:8080/"
        },
        "id": "VwhY9N--MDZJ",
        "outputId": "0b9d7264-7afb-41df-faa6-06a6101a2b7c"
      },
      "execution_count": null,
      "outputs": [
        {
          "output_type": "stream",
          "name": "stdout",
          "text": [
            "deque([1, 2, 3])\n"
          ]
        }
      ]
    },
    {
      "cell_type": "code",
      "source": [
        "x = q.popleft()\n",
        "print(x)\n",
        "print(q)"
      ],
      "metadata": {
        "colab": {
          "base_uri": "https://localhost:8080/"
        },
        "id": "blozwZkkPCcK",
        "outputId": "553af595-1fe5-410c-f5da-1d755f5d5ca1"
      },
      "execution_count": null,
      "outputs": [
        {
          "output_type": "stream",
          "name": "stdout",
          "text": [
            "1\n",
            "deque([2, 3])\n"
          ]
        }
      ]
    },
    {
      "cell_type": "code",
      "source": [
        "#hash set\n",
        "s = set()\n",
        "s.add(2)\n",
        "s.add(5)\n",
        "s.add(8)\n",
        "print(s)"
      ],
      "metadata": {
        "colab": {
          "base_uri": "https://localhost:8080/"
        },
        "id": "HcjPnV7bPCeg",
        "outputId": "c5c25e6f-8cf1-44cd-e58e-62e885b1c3de"
      },
      "execution_count": null,
      "outputs": [
        {
          "output_type": "stream",
          "name": "stdout",
          "text": [
            "{8, 2, 5}\n"
          ]
        }
      ]
    },
    {
      "cell_type": "code",
      "source": [
        "if 8 in s:\n",
        "  print(True)"
      ],
      "metadata": {
        "colab": {
          "base_uri": "https://localhost:8080/"
        },
        "id": "DDh2uKxtPCg2",
        "outputId": "64f4d74e-201d-42af-c528-a3fc331e8773"
      },
      "execution_count": null,
      "outputs": [
        {
          "output_type": "stream",
          "name": "stdout",
          "text": [
            "True\n"
          ]
        }
      ]
    },
    {
      "cell_type": "code",
      "source": [
        "\n",
        "s.remove(8)\n",
        "print(s)"
      ],
      "metadata": {
        "colab": {
          "base_uri": "https://localhost:8080/"
        },
        "id": "mtfcXOrXPCi2",
        "outputId": "95e06fe6-6d4c-4cbc-e1c0-7cc4d7b90c1d"
      },
      "execution_count": null,
      "outputs": [
        {
          "output_type": "stream",
          "name": "stdout",
          "text": [
            "{2, 5}\n"
          ]
        }
      ]
    },
    {
      "cell_type": "code",
      "source": [
        "# Hash maps\n",
        "\n",
        "d = {\"gokul\" : 1 ,\"gok\" : 2,\"go\" : 3 }\n",
        "print(d)"
      ],
      "metadata": {
        "colab": {
          "base_uri": "https://localhost:8080/"
        },
        "id": "cYW-PWAjPClA",
        "outputId": "01c3f6ce-b71e-4dea-ef4e-7a0ce504a5e0"
      },
      "execution_count": null,
      "outputs": [
        {
          "output_type": "stream",
          "name": "stdout",
          "text": [
            "{'gokul': 1, 'gok': 2, 'go': 3}\n"
          ]
        }
      ]
    },
    {
      "cell_type": "code",
      "source": [
        "d['arsh'] = 4\n",
        "print(d)"
      ],
      "metadata": {
        "colab": {
          "base_uri": "https://localhost:8080/"
        },
        "id": "i7d4CgzEPCnL",
        "outputId": "3f3bc750-a76a-491e-ef86-599e092f2a5e"
      },
      "execution_count": null,
      "outputs": [
        {
          "output_type": "stream",
          "name": "stdout",
          "text": [
            "{'gokul': 1, 'gok': 2, 'go': 3, 'arsh': 4}\n"
          ]
        }
      ]
    },
    {
      "cell_type": "code",
      "source": [
        "if 'gokul' in d:\n",
        "  print(True)\n",
        "print(d['gok'])"
      ],
      "metadata": {
        "colab": {
          "base_uri": "https://localhost:8080/"
        },
        "id": "QJwdqGlCPCpj",
        "outputId": "c97ec328-b789-4a73-9067-9a6d9982e464"
      },
      "execution_count": null,
      "outputs": [
        {
          "output_type": "stream",
          "name": "stdout",
          "text": [
            "True\n",
            "2\n"
          ]
        }
      ]
    },
    {
      "cell_type": "code",
      "source": [
        "for k,v in d.items():\n",
        "  print(k,v)"
      ],
      "metadata": {
        "colab": {
          "base_uri": "https://localhost:8080/"
        },
        "id": "zBQM8ZVpPCr5",
        "outputId": "9c692f3a-0fdd-4c9f-bfa6-b78f20ed4f54"
      },
      "execution_count": null,
      "outputs": [
        {
          "output_type": "stream",
          "name": "stdout",
          "text": [
            "gokul 1\n",
            "gok 2\n",
            "go 3\n",
            "arsh 4\n"
          ]
        }
      ]
    },
    {
      "cell_type": "code",
      "source": [
        "#Binary search\n",
        "a = [-3,-1,0,1,4,7]\n",
        "\n",
        "def Binary_search(arr,target):\n",
        "  N = len(arr)\n",
        "  L = 0\n",
        "  R = N-1\n",
        "\n",
        "  while L <= R:\n",
        "    M =  (L + R)//2\n",
        "    if arr[M] == target:\n",
        "      return True\n",
        "    elif target < arr[M] :\n",
        "      R = M-1\n",
        "    else:\n",
        "      L = M+1\n",
        "\n",
        "  return False\n",
        "\n",
        "print(Binary_search(a,7))\n",
        "print(Binary_search(a,-7))"
      ],
      "metadata": {
        "colab": {
          "base_uri": "https://localhost:8080/"
        },
        "id": "6moxnflxPsRP",
        "outputId": "84f34235-44e4-4a60-df3c-de8ac4dbfffe"
      },
      "execution_count": null,
      "outputs": [
        {
          "output_type": "stream",
          "name": "stdout",
          "text": [
            "True\n",
            "False\n"
          ]
        }
      ]
    },
    {
      "cell_type": "code",
      "source": [
        "class Cat:\n",
        "    def __init__(self, name):\n",
        "        self.name = name\n",
        "\n",
        "\n",
        "    def speak(self):\n",
        "        print(f\"{self.name} says Meow!\")\n",
        "\n",
        "\n",
        "class Dog:\n",
        "    def __init__(self, name):\n",
        "        self.name = name\n",
        "\n",
        "\n",
        "    def speak(self):\n",
        "        print(f\"{self.name} says Woof\")\n",
        "\n",
        "dog1 = Dog(\"Buddy\")\n",
        "dog1.speak()\n",
        "cat1 = Cat(\"Whiskers\")\n",
        "cat1.speak()\n"
      ],
      "metadata": {
        "colab": {
          "base_uri": "https://localhost:8080/"
        },
        "id": "D8naXZwvPsTc",
        "outputId": "b3c38a5c-e83d-462e-845d-e950a20c8093"
      },
      "execution_count": null,
      "outputs": [
        {
          "output_type": "stream",
          "name": "stdout",
          "text": [
            "Buddy says Woof\n",
            "Whiskers says Meow!\n"
          ]
        }
      ]
    },
    {
      "cell_type": "markdown",
      "source": [
        "SQL QUERIES\n"
      ],
      "metadata": {
        "id": "IevS_zO30mtF"
      }
    },
    {
      "cell_type": "code",
      "source": [
        "!apt-get update\n",
        "!apt-get install -y mysql-server\n",
        "\n",
        "!pip install mysql-connector-python\n"
      ],
      "metadata": {
        "id": "wIuaiZWoPsWF",
        "colab": {
          "base_uri": "https://localhost:8080/"
        },
        "outputId": "1fa961f2-1dda-49db-aefc-f09ea1e7bb67"
      },
      "execution_count": null,
      "outputs": [
        {
          "output_type": "stream",
          "name": "stdout",
          "text": [
            "\r0% [Working]\r            \rHit:1 http://archive.ubuntu.com/ubuntu jammy InRelease\n",
            "\r0% [Connecting to security.ubuntu.com (185.125.190.83)] [Connected to cloud.r-project.org (108.139.1\r                                                                                                    \rHit:2 http://archive.ubuntu.com/ubuntu jammy-updates InRelease\n",
            "\r0% [Waiting for headers] [Connecting to security.ubuntu.com (185.125.190.83)] [Connected to cloud.r-\r                                                                                                    \rHit:3 http://archive.ubuntu.com/ubuntu jammy-backports InRelease\n",
            "\r0% [Waiting for headers] [Waiting for headers] [Connected to r2u.stat.illinois.edu (192.17.190.167)]\r                                                                                                    \rHit:4 https://cloud.r-project.org/bin/linux/ubuntu jammy-cran40/ InRelease\n",
            "\r0% [Waiting for headers] [Connected to r2u.stat.illinois.edu (192.17.190.167)] [Connected to develop\r                                                                                                    \rHit:5 https://developer.download.nvidia.com/compute/cuda/repos/ubuntu2204/x86_64  InRelease\n",
            "Hit:6 http://security.ubuntu.com/ubuntu jammy-security InRelease\n",
            "Hit:7 https://r2u.stat.illinois.edu/ubuntu jammy InRelease\n",
            "Hit:8 https://ppa.launchpadcontent.net/deadsnakes/ppa/ubuntu jammy InRelease\n",
            "Hit:9 https://ppa.launchpadcontent.net/graphics-drivers/ppa/ubuntu jammy InRelease\n",
            "Hit:10 https://ppa.launchpadcontent.net/ubuntugis/ppa/ubuntu jammy InRelease\n",
            "Reading package lists... Done\n",
            "W: Skipping acquire of configured file 'main/source/Sources' as repository 'https://r2u.stat.illinois.edu/ubuntu jammy InRelease' does not seem to provide it (sources.list entry misspelt?)\n",
            "Reading package lists... Done\n",
            "Building dependency tree... Done\n",
            "Reading state information... Done\n",
            "mysql-server is already the newest version (8.0.41-0ubuntu0.22.04.1).\n",
            "0 upgraded, 0 newly installed, 0 to remove and 22 not upgraded.\n",
            "Requirement already satisfied: mysql-connector-python in /usr/local/lib/python3.11/dist-packages (9.2.0)\n"
          ]
        }
      ]
    },
    {
      "cell_type": "code",
      "source": [
        "\n",
        "!mysqld --skip-grant-tables &\n",
        "!service mysql start"
      ],
      "metadata": {
        "colab": {
          "base_uri": "https://localhost:8080/"
        },
        "id": "OqDAHHf4Rn1m",
        "outputId": "c6de0af2-1a2a-4fbc-931b-4994a3e259a6"
      },
      "execution_count": null,
      "outputs": [
        {
          "output_type": "stream",
          "name": "stdout",
          "text": [
            " * Starting MySQL database server mysqld\n",
            "   ...done.\n"
          ]
        }
      ]
    },
    {
      "cell_type": "code",
      "source": [
        "!sudo /etc/init.d/mysql start\n",
        "!sudo mysql_secure_installation\n"
      ],
      "metadata": {
        "colab": {
          "base_uri": "https://localhost:8080/"
        },
        "id": "Jwynkoy4USWO",
        "outputId": "5ce5e524-03cf-4815-ab25-8138bdf89e2e"
      },
      "execution_count": null,
      "outputs": [
        {
          "output_type": "stream",
          "name": "stdout",
          "text": [
            " * Starting MySQL database server mysqld\n",
            "   ...done.\n",
            "\n",
            "Securing the MySQL server deployment.\n",
            "\n",
            "Connecting to MySQL using a blank password.\n",
            "\n",
            "VALIDATE PASSWORD COMPONENT can be used to test passwords\n",
            "and improve security. It checks the strength of password\n",
            "and allows the users to set only those passwords which are\n",
            "secure enough. Would you like to setup VALIDATE PASSWORD component?\n",
            "\n",
            "Press y|Y for Yes, any other key for No: no\n",
            "\n",
            "Skipping password set for root as authentication with auth_socket is used by default.\n",
            "If you would like to use password authentication instead, this can be done with the \"ALTER_USER\" command.\n",
            "See https://dev.mysql.com/doc/refman/8.0/en/alter-user.html#alter-user-password-management for more information.\n",
            "\n",
            "By default, a MySQL installation has an anonymous user,\n",
            "allowing anyone to log into MySQL without having to have\n",
            "a user account created for them. This is intended only for\n",
            "testing, and to make the installation go a bit smoother.\n",
            "You should remove them before moving into a production\n",
            "environment.\n",
            "\n",
            "Remove anonymous users? (Press y|Y for Yes, any other key for No) : no\n",
            "\n",
            " ... skipping.\n",
            "\n",
            "\n",
            "Normally, root should only be allowed to connect from\n",
            "'localhost'. This ensures that someone cannot guess at\n",
            "the root password from the network.\n",
            "\n",
            "Disallow root login remotely? (Press y|Y for Yes, any other key for No) : no\n",
            "\n",
            " ... skipping.\n",
            "By default, MySQL comes with a database named 'test' that\n",
            "anyone can access. This is also intended only for testing,\n",
            "and should be removed before moving into a production\n",
            "environment.\n",
            "\n",
            "\n",
            "Remove test database and access to it? (Press y|Y for Yes, any other key for No) : no\n",
            "\n",
            " ... skipping.\n",
            "Reloading the privilege tables will ensure that all changes\n",
            "made so far will take effect immediately.\n",
            "\n",
            "Reload privilege tables now? (Press y|Y for Yes, any other key for No) : no\n",
            "\n",
            " ... skipping.\n",
            "All done! \n"
          ]
        },
        {
          "output_type": "execute_result",
          "data": {
            "text/plain": [
              "29164"
            ]
          },
          "metadata": {},
          "execution_count": 10
        }
      ]
    },
    {
      "cell_type": "markdown",
      "source": [],
      "metadata": {
        "id": "tux7yae7VvFu"
      }
    },
    {
      "cell_type": "code",
      "source": [
        "!service mysql restart\n"
      ],
      "metadata": {
        "colab": {
          "base_uri": "https://localhost:8080/"
        },
        "id": "3C0DnaEVUSZi",
        "outputId": "4f741e4f-7d09-450b-b5db-fd3c80626b26"
      },
      "execution_count": null,
      "outputs": [
        {
          "output_type": "stream",
          "name": "stdout",
          "text": [
            " * Stopping MySQL database server mysqld\n",
            "   ...done.\n",
            " * Starting MySQL database server mysqld\n",
            "su: warning: cannot change directory to /nonexistent: No such file or directory\n",
            "   ...done.\n"
          ]
        }
      ]
    },
    {
      "cell_type": "code",
      "source": [
        "!mysql -u root -e \"ALTER USER 'root'@'localhost' IDENTIFIED WITH mysql_native_password BY 'Gokul29164'; FLUSH PRIVILEGES;\"\n"
      ],
      "metadata": {
        "id": "nr9jQR7YsI6y"
      },
      "execution_count": null,
      "outputs": []
    },
    {
      "cell_type": "code",
      "source": [
        "import mysql.connector\n",
        "\n",
        "gokul = mysql.connector.connect(\n",
        "    host=\"localhost\",\n",
        "    user=\"root\",\n",
        "    password=\"Gokul29164\"\n",
        ")\n",
        "\n"
      ],
      "metadata": {
        "id": "up0psSrfRn5K"
      },
      "execution_count": null,
      "outputs": []
    },
    {
      "cell_type": "code",
      "source": [
        "cursor = gokul.cursor()\n",
        "\n",
        "cursor.execute(\"CREATE DATABASE IF NOT EXISTS MY_DATA\")\n",
        "\n",
        "cursor.execute(\"SHOW DATABASES\")\n",
        "\n",
        "for x in cursor:\n",
        "  print(x)\n"
      ],
      "metadata": {
        "colab": {
          "base_uri": "https://localhost:8080/"
        },
        "id": "bnxXX5KiU-zw",
        "outputId": "bcb95946-ee0b-4a5d-9c0d-aeac42c875a0"
      },
      "execution_count": null,
      "outputs": [
        {
          "output_type": "stream",
          "name": "stdout",
          "text": [
            "('MY_DATA',)\n",
            "('MY_DATABASE',)\n",
            "('MY_DB',)\n",
            "('information_schema',)\n",
            "('mysql',)\n",
            "('performance_schema',)\n",
            "('sys',)\n"
          ]
        }
      ]
    },
    {
      "cell_type": "code",
      "source": [
        "gokul = mysql.connector.connect(\n",
        "  host=\"localhost\",\n",
        "  user=\"root\",\n",
        "  password=\"Gokul29164\",\n",
        "  database='MY_DATA'\n",
        ")\n",
        "cursor = gokul.cursor()"
      ],
      "metadata": {
        "id": "9qILQ8rRW3g4"
      },
      "execution_count": null,
      "outputs": []
    },
    {
      "cell_type": "code",
      "source": [
        "cursor.execute(\"\"\"\n",
        "CREATE TABLE IF NOT EXISTS students (\n",
        "    student_id INT AUTO_INCREMENT PRIMARY KEY,\n",
        "    name VARCHAR(100) NOT NULL,\n",
        "    age INT NOT NULL,\n",
        "    gender ENUM('Male', 'Female') NOT NULL,\n",
        "    email VARCHAR(255) UNIQUE NOT NULL,\n",
        "    admission_date DATE DEFAULT (CURRENT_DATE)\n",
        ");\n",
        "\"\"\")\n",
        "\n",
        "print(\"Table 'students' created successfully!\")\n"
      ],
      "metadata": {
        "id": "Oj9o-IyoPsX9",
        "colab": {
          "base_uri": "https://localhost:8080/"
        },
        "outputId": "af16d39c-bd66-442b-f9b1-3d5bec889741"
      },
      "execution_count": null,
      "outputs": [
        {
          "output_type": "stream",
          "name": "stdout",
          "text": [
            "Table 'students' created successfully!\n"
          ]
        }
      ]
    },
    {
      "cell_type": "code",
      "source": [
        "cursor.executemany(\"\"\"\n",
        "INSERT IGNORE INTO students (name, age, gender, email)\n",
        "VALUES (%s, %s, %s, %s)\"\"\", [\n",
        "    (\"Gokul\", 22, \"Male\", \"gokul1234@gmail.com\"),\n",
        "    (\"Smith\", 24, \"Male\", \"smith1234@gmail.com\"),\n",
        "    (\"Shruthi\", 23, \"Female\", \"shruthi@gmail.com\"),\n",
        "    (\"Diana \", 25, \"Female\", \"diana@gmail.com\"),\n",
        "    (\"Poorna\", 26, \"Male\", \"poorna@gmail.com\")\n",
        "])\n",
        "\n",
        "gokul.commit()\n",
        "print(\"Sample data inserted into 'students' table!\")\n"
      ],
      "metadata": {
        "colab": {
          "base_uri": "https://localhost:8080/"
        },
        "id": "A2xi4MUuXDI-",
        "outputId": "6176cde9-05fc-4450-a65e-7bb3537b313a"
      },
      "execution_count": null,
      "outputs": [
        {
          "output_type": "stream",
          "name": "stdout",
          "text": [
            "Sample data inserted into 'students' table!\n"
          ]
        }
      ]
    },
    {
      "cell_type": "code",
      "source": [
        "cursor.execute(\"SELECT * FROM students;\")\n",
        "for row in cursor.fetchall():\n",
        "    print(row)\n"
      ],
      "metadata": {
        "id": "3FPkZGwIW2qg",
        "colab": {
          "base_uri": "https://localhost:8080/"
        },
        "outputId": "5bb573d8-52ee-4d14-8d2b-3fb113dac0b9"
      },
      "execution_count": null,
      "outputs": [
        {
          "output_type": "stream",
          "name": "stdout",
          "text": [
            "(1, 'Gokul', 22, 'Male', 'gokul1234@gmail.com', datetime.date(2025, 2, 15))\n",
            "(2, 'Smith', 24, 'Male', 'smith1234@gmail.com', datetime.date(2025, 2, 15))\n",
            "(3, 'Shruthi', 23, 'Female', 'shruthi@gmail.com', datetime.date(2025, 2, 15))\n",
            "(4, 'Diana ', 25, 'Female', 'diana@gmail.com', datetime.date(2025, 2, 15))\n",
            "(5, 'Poorna', 26, 'Male', 'poorna@gmail.com', datetime.date(2025, 2, 15))\n"
          ]
        }
      ]
    },
    {
      "cell_type": "code",
      "source": [
        "cursor.execute(\"SELECT name, age FROM students;\")\n",
        "for row in cursor.fetchall():\n",
        "    print(row)\n"
      ],
      "metadata": {
        "colab": {
          "base_uri": "https://localhost:8080/"
        },
        "id": "BeMEe2dMTcfM",
        "outputId": "589780a5-828f-4ffe-af5e-4cf54fb3610e"
      },
      "execution_count": null,
      "outputs": [
        {
          "output_type": "stream",
          "name": "stdout",
          "text": [
            "('Gokul', 22)\n",
            "('Smith', 24)\n",
            "('Shruthi', 23)\n",
            "('Diana ', 25)\n",
            "('Poorna', 26)\n"
          ]
        }
      ]
    },
    {
      "cell_type": "code",
      "source": [
        "cursor.execute(\"SELECT * FROM students WHERE age > 23;\")\n",
        "for row in cursor.fetchall():\n",
        "    print(row)\n"
      ],
      "metadata": {
        "id": "c0mZo8q_PsaB",
        "colab": {
          "base_uri": "https://localhost:8080/"
        },
        "outputId": "1b04a9f6-4496-443c-fd98-8bc55cbd1fcb"
      },
      "execution_count": null,
      "outputs": [
        {
          "output_type": "stream",
          "name": "stdout",
          "text": [
            "(2, 'Smith', 24, 'Male', 'smith1234@gmail.com', datetime.date(2025, 2, 15))\n",
            "(4, 'Diana ', 25, 'Female', 'diana@gmail.com', datetime.date(2025, 2, 15))\n",
            "(5, 'Poorna', 26, 'Male', 'poorna@gmail.com', datetime.date(2025, 2, 15))\n"
          ]
        }
      ]
    },
    {
      "cell_type": "code",
      "source": [
        "cursor.execute(\"SELECT COUNT(*) FROM students;\")\n",
        "print(cursor.fetchone()[0])\n"
      ],
      "metadata": {
        "id": "NQIBeMGKPsde",
        "colab": {
          "base_uri": "https://localhost:8080/"
        },
        "outputId": "623dcb8a-4970-4dae-d714-a90ff51cc7c3"
      },
      "execution_count": null,
      "outputs": [
        {
          "output_type": "stream",
          "name": "stdout",
          "text": [
            "5\n"
          ]
        }
      ]
    },
    {
      "cell_type": "code",
      "source": [
        "#Average age of students\n",
        "cursor.execute(\"SELECT AVG(age) AS avg_age FROM students\")\n",
        "print(cursor.fetchall())\n"
      ],
      "metadata": {
        "colab": {
          "base_uri": "https://localhost:8080/"
        },
        "id": "4GQj3DKKxMNE",
        "outputId": "7cc98923-43fd-40d0-8984-309ba5b377de"
      },
      "execution_count": null,
      "outputs": [
        {
          "output_type": "stream",
          "name": "stdout",
          "text": [
            "[(Decimal('24.0000'),)]\n"
          ]
        }
      ]
    },
    {
      "cell_type": "code",
      "source": [
        "cursor.execute(\"SELECT MAX(age) AS oldest, MIN(age) AS youngest FROM students;\")\n",
        "print(cursor.fetchone())\n"
      ],
      "metadata": {
        "colab": {
          "base_uri": "https://localhost:8080/"
        },
        "id": "rm6IGDhIxMQZ",
        "outputId": "1994fb24-aa7c-456d-e747-0c781b8f568c"
      },
      "execution_count": null,
      "outputs": [
        {
          "output_type": "stream",
          "name": "stdout",
          "text": [
            "(26, 22)\n"
          ]
        }
      ]
    },
    {
      "cell_type": "code",
      "source": [
        "cursor.execute(\"SELECT * FROM students ORDER BY age ASC;\")\n",
        "for row in cursor.fetchall():\n",
        "    print(row)\n"
      ],
      "metadata": {
        "colab": {
          "base_uri": "https://localhost:8080/"
        },
        "id": "GxDbh8sexMSo",
        "outputId": "216ee92e-9f41-49d4-e15b-8d89ff8a371a"
      },
      "execution_count": null,
      "outputs": [
        {
          "output_type": "stream",
          "name": "stdout",
          "text": [
            "(1, 'Gokul', 22, 'Male', 'gokul1234@gmail.com', datetime.date(2025, 2, 15))\n",
            "(3, 'Shruthi', 23, 'Female', 'shruthi@gmail.com', datetime.date(2025, 2, 15))\n",
            "(2, 'Smith', 24, 'Male', 'smith1234@gmail.com', datetime.date(2025, 2, 15))\n",
            "(4, 'Diana ', 25, 'Female', 'diana@gmail.com', datetime.date(2025, 2, 15))\n",
            "(5, 'Poorna', 26, 'Male', 'poorna@gmail.com', datetime.date(2025, 2, 15))\n"
          ]
        }
      ]
    },
    {
      "cell_type": "code",
      "source": [
        "cursor.execute(\"SELECT * FROM students ORDER BY age DESC;\")\n",
        "for row in cursor.fetchall():\n",
        "    print(row)\n"
      ],
      "metadata": {
        "colab": {
          "base_uri": "https://localhost:8080/"
        },
        "id": "4UFDLQnQxMUP",
        "outputId": "50aa27f7-4d7d-48c0-8e95-f95fd49fc479"
      },
      "execution_count": null,
      "outputs": [
        {
          "output_type": "stream",
          "name": "stdout",
          "text": [
            "(5, 'Poorna', 26, 'Male', 'poorna@gmail.com', datetime.date(2025, 2, 15))\n",
            "(4, 'Diana ', 25, 'Female', 'diana@gmail.com', datetime.date(2025, 2, 15))\n",
            "(2, 'Smith', 24, 'Male', 'smith1234@gmail.com', datetime.date(2025, 2, 15))\n",
            "(3, 'Shruthi', 23, 'Female', 'shruthi@gmail.com', datetime.date(2025, 2, 15))\n",
            "(1, 'Gokul', 22, 'Male', 'gokul1234@gmail.com', datetime.date(2025, 2, 15))\n"
          ]
        }
      ]
    },
    {
      "cell_type": "code",
      "source": [
        "cursor.execute(\"SELECT * FROM students ORDER BY age DESC LIMIT 3;\")\n",
        "for row in cursor.fetchall():\n",
        "    print(row)\n"
      ],
      "metadata": {
        "colab": {
          "base_uri": "https://localhost:8080/"
        },
        "id": "V_1GHrvLxMVe",
        "outputId": "1a8a0b43-e295-4093-d9d3-dec25d93050c"
      },
      "execution_count": null,
      "outputs": [
        {
          "output_type": "stream",
          "name": "stdout",
          "text": [
            "(5, 'Poorna', 26, 'Male', 'poorna@gmail.com', datetime.date(2025, 2, 15))\n",
            "(4, 'Diana ', 25, 'Female', 'diana@gmail.com', datetime.date(2025, 2, 15))\n",
            "(2, 'Smith', 24, 'Male', 'smith1234@gmail.com', datetime.date(2025, 2, 15))\n"
          ]
        }
      ]
    },
    {
      "cell_type": "code",
      "source": [
        "cursor.execute(\"\"\"\n",
        "SELECT name, age,\n",
        "    CASE\n",
        "        WHEN age >= 25 THEN 'Senior'\n",
        "        WHEN age >= 22 THEN 'Junior'\n",
        "        ELSE 'Newcomer'\n",
        "    END AS category\n",
        "FROM students;\n",
        "\"\"\")\n",
        "\n",
        "for row in cursor.fetchall():\n",
        "    print(row)\n"
      ],
      "metadata": {
        "colab": {
          "base_uri": "https://localhost:8080/"
        },
        "id": "j8MxuUHIxMW4",
        "outputId": "9c68faf7-f373-4b49-c085-396cf7e8413f"
      },
      "execution_count": null,
      "outputs": [
        {
          "output_type": "stream",
          "name": "stdout",
          "text": [
            "('Gokul', 22, 'Junior')\n",
            "('Smith', 24, 'Junior')\n",
            "('Shruthi', 23, 'Junior')\n",
            "('Diana ', 25, 'Senior')\n",
            "('Poorna', 26, 'Senior')\n"
          ]
        }
      ]
    },
    {
      "cell_type": "code",
      "source": [
        "cursor.execute(\"\"\"\n",
        "SELECT * FROM students\n",
        "WHERE age > (SELECT AVG(age) FROM students);\n",
        "\"\"\")\n",
        "\n",
        "for row in cursor.fetchall():\n",
        "    print(row)\n"
      ],
      "metadata": {
        "colab": {
          "base_uri": "https://localhost:8080/"
        },
        "id": "0AojtB7uxMX-",
        "outputId": "994894bb-5f3d-49bb-a232-8e2799a85743"
      },
      "execution_count": null,
      "outputs": [
        {
          "output_type": "stream",
          "name": "stdout",
          "text": [
            "(4, 'Diana ', 25, 'Female', 'diana@gmail.com', datetime.date(2025, 2, 15))\n",
            "(5, 'Poorna', 26, 'Male', 'poorna@gmail.com', datetime.date(2025, 2, 15))\n"
          ]
        }
      ]
    },
    {
      "cell_type": "code",
      "source": [
        "cursor.execute(\"\"\"\n",
        "CREATE TABLE IF NOT EXISTS courses (\n",
        "    course_id INT AUTO_INCREMENT PRIMARY KEY,\n",
        "    course_name VARCHAR(100) NOT NULL,\n",
        "    credits INT NOT NULL\n",
        ");\n",
        "\"\"\")\n",
        "\n",
        "cursor.executemany(\"\"\"\n",
        "INSERT IGNORE INTO courses (course_name, credits)\n",
        "VALUES (%s, %s)\"\"\", [\n",
        "    (\"Math 101\", 4),\n",
        "    (\"Physics 201\", 3),\n",
        "    (\"Chemistry 301\", 4)\n",
        "])\n",
        "\n",
        "gokul.commit()\n",
        "print(\"Courses table created and populated!\")\n"
      ],
      "metadata": {
        "colab": {
          "base_uri": "https://localhost:8080/"
        },
        "id": "Ti9-nuVaxMZN",
        "outputId": "58fe2214-8314-4e21-f1ce-08ec93e185b1"
      },
      "execution_count": null,
      "outputs": [
        {
          "output_type": "stream",
          "name": "stdout",
          "text": [
            "Courses table created and populated!\n"
          ]
        }
      ]
    },
    {
      "cell_type": "code",
      "source": [
        "cursor.execute(\"\"\"\n",
        "CREATE TABLE IF NOT EXISTS enrollments (\n",
        "    enroll_id INT AUTO_INCREMENT PRIMARY KEY,\n",
        "    student_id INT,\n",
        "    course_id INT,\n",
        "    enroll_date TIMESTAMP DEFAULT CURRENT_TIMESTAMP,\n",
        "    FOREIGN KEY (student_id) REFERENCES students(student_id),\n",
        "    FOREIGN KEY (course_id) REFERENCES courses(course_id)\n",
        ");\n",
        "\"\"\")\n",
        "print(\"Enrollments table created!\")\n"
      ],
      "metadata": {
        "colab": {
          "base_uri": "https://localhost:8080/"
        },
        "id": "weiNE9A0xMdL",
        "outputId": "2dc9a529-2d8b-45b2-bd65-fe6a104953ea"
      },
      "execution_count": null,
      "outputs": [
        {
          "output_type": "stream",
          "name": "stdout",
          "text": [
            "Enrollments table created!\n"
          ]
        }
      ]
    },
    {
      "cell_type": "code",
      "source": [
        "cursor.executemany(\"\"\"\n",
        "INSERT IGNORE INTO enrollments (student_id, course_id)\n",
        "VALUES (%s, %s)\"\"\", [\n",
        "    (1, 1), (1, 2), (2, 3), (3, 1), (4, 2), (5, 3)\n",
        "])\n",
        "\n",
        "gokul.commit()\n",
        "print(\"Students enrolled in courses!\")\n"
      ],
      "metadata": {
        "colab": {
          "base_uri": "https://localhost:8080/"
        },
        "id": "SiHSTlhszneO",
        "outputId": "f08e04c2-9ec3-409e-9e55-b40c0c4ee343"
      },
      "execution_count": null,
      "outputs": [
        {
          "output_type": "stream",
          "name": "stdout",
          "text": [
            "Students enrolled in courses!\n"
          ]
        }
      ]
    },
    {
      "cell_type": "code",
      "source": [
        "cursor.execute(\"\"\"\n",
        "SELECT students.name, courses.course_name\n",
        "FROM students\n",
        "JOIN enrollments ON students.student_id = enrollments.student_id\n",
        "JOIN courses ON enrollments.course_id = courses.course_id;\n",
        "\"\"\")\n",
        "\n",
        "for row in cursor.fetchall():\n",
        "    print(row)\n"
      ],
      "metadata": {
        "colab": {
          "base_uri": "https://localhost:8080/"
        },
        "id": "TnUifxqVznyb",
        "outputId": "21a6cfd4-53b1-4f70-e66d-02b78b85696c"
      },
      "execution_count": null,
      "outputs": [
        {
          "output_type": "stream",
          "name": "stdout",
          "text": [
            "('Gokul', 'Math 101')\n",
            "('Gokul', 'Physics 201')\n",
            "('Gokul', 'Math 101')\n",
            "('Gokul', 'Physics 201')\n",
            "('Smith', 'Chemistry 301')\n",
            "('Smith', 'Chemistry 301')\n",
            "('Shruthi', 'Math 101')\n",
            "('Shruthi', 'Math 101')\n",
            "('Diana ', 'Physics 201')\n",
            "('Diana ', 'Physics 201')\n",
            "('Poorna', 'Chemistry 301')\n",
            "('Poorna', 'Chemistry 301')\n"
          ]
        }
      ]
    },
    {
      "cell_type": "code",
      "source": [
        "cursor.execute(\"UPDATE students SET age = 27 WHERE name = 'Diana';\")\n",
        "gokul.commit()\n",
        "print(\"Updated Diana's age!\")\n"
      ],
      "metadata": {
        "colab": {
          "base_uri": "https://localhost:8080/"
        },
        "id": "e8b5zooBzn0s",
        "outputId": "8e495473-69f0-4c43-a3a0-318565731ad6"
      },
      "execution_count": null,
      "outputs": [
        {
          "output_type": "stream",
          "name": "stdout",
          "text": [
            "Updated Diana's age!\n"
          ]
        }
      ]
    },
    {
      "cell_type": "code",
      "source": [
        "cursor.execute(\"\"\"\n",
        "DELETE FROM students WHERE student_id NOT IN\n",
        "(SELECT DISTINCT student_id FROM enrollments);\n",
        "\"\"\")\n",
        "gokul.commit()\n",
        "print(\"Deleted students who haven't enrolled in any course!\")\n"
      ],
      "metadata": {
        "colab": {
          "base_uri": "https://localhost:8080/"
        },
        "id": "1g5lv2Cbzn3I",
        "outputId": "a27f7efb-3f2e-4336-b5a9-4f6a46cca016"
      },
      "execution_count": null,
      "outputs": [
        {
          "output_type": "stream",
          "name": "stdout",
          "text": [
            "Deleted students who haven't enrolled in any course!\n"
          ]
        }
      ]
    },
    {
      "cell_type": "code",
      "source": [
        "cursor.close()\n",
        "gokul.close()\n",
        "print(\"Connection closed.\")\n"
      ],
      "metadata": {
        "colab": {
          "base_uri": "https://localhost:8080/"
        },
        "id": "rktpOewazn5E",
        "outputId": "6c201f7f-e2a6-4b33-99b5-4e4c694807c8"
      },
      "execution_count": null,
      "outputs": [
        {
          "output_type": "stream",
          "name": "stdout",
          "text": [
            "Connection closed.\n"
          ]
        }
      ]
    }
  ]
}